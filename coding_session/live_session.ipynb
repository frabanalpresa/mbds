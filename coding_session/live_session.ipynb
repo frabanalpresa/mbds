{
 "cells": [
  {
   "cell_type": "markdown",
   "id": "bored-relations",
   "metadata": {},
   "source": [
    "# Máster en Big Data Science\n",
    "## Live coding session\n",
    "\n",
    "---\n",
    "\n",
    "- Date: January 25, 2022\n",
    "- Language: Python 3.9\n",
    "- Author: Fernando Rabanal"
   ]
  },
  {
   "cell_type": "markdown",
   "id": "undefined-academy",
   "metadata": {},
   "source": [
    "### Data load\n",
    "\n",
    "- Dataset: [BBC News Summary](https://www.kaggle.com/pariza/bbc-news-summary)\n",
    "- General information:\n",
    "    - 5 classes: business, entertainment, politics, sport, tech\n",
    "    - 2224 articles in total\n",
    "    - First line of each article is treated as title\n",
    "    \n",
    "- Possible problems to be tackled:\n",
    "    - Text summarization\n",
    "    - **Text classification**\n",
    "    - Named Entity Recognition\n",
    "    - ..."
   ]
  },
  {
   "cell_type": "code",
   "execution_count": 1,
   "id": "confident-trout",
   "metadata": {},
   "outputs": [],
   "source": [
    "import os\n",
    "import re\n",
    "\n",
    "import altair as alt\n",
    "import gensim\n",
    "import numpy as np\n",
    "import umap\n",
    "import pandas as pd\n",
    "import spacy\n",
    "\n",
    "from tqdm.notebook import tqdm\n",
    "from loguru import logger\n",
    "from sklearn.linear_model import LogisticRegression\n",
    "from sklearn.ensemble import RandomForestClassifier\n",
    "from sklearn.model_selection import cross_val_score\n",
    "\n",
    "nlp = spacy.load('en_core_web_lg')"
   ]
  },
  {
   "cell_type": "markdown",
   "id": "finite-malaysia",
   "metadata": {},
   "source": [
    "We'll load the corpus as {id: {'x': text, 'y': category}}.\n",
    "\n",
    "- This way, data loading process gets a bit overcomplicated, as a specific structure is required.\n",
    "- On the other hand, we will have flexibility in how we process text for the different algorithms as we have all information in a predefined structure."
   ]
  },
  {
   "cell_type": "code",
   "execution_count": 2,
   "id": "asian-weather",
   "metadata": {},
   "outputs": [
    {
     "name": "stderr",
     "output_type": "stream",
     "text": [
      "2022-01-12 20:12:08.260 | INFO     | __main__:<module>:8 - Category: tech | Files: 401\n"
     ]
    },
    {
     "data": {
      "application/vnd.jupyter.widget-view+json": {
       "model_id": "495eb2ef7cc145bdbea8ff2438894c98",
       "version_major": 2,
       "version_minor": 0
      },
      "text/plain": [
       "  0%|          | 0/401 [00:00<?, ?it/s]"
      ]
     },
     "metadata": {},
     "output_type": "display_data"
    },
    {
     "name": "stderr",
     "output_type": "stream",
     "text": [
      "2022-01-12 20:12:08.294 | INFO     | __main__:<module>:8 - Category: sport | Files: 511\n"
     ]
    },
    {
     "data": {
      "application/vnd.jupyter.widget-view+json": {
       "model_id": "3191b2fa857f4cb5866e5f90131dca90",
       "version_major": 2,
       "version_minor": 0
      },
      "text/plain": [
       "  0%|          | 0/511 [00:00<?, ?it/s]"
      ]
     },
     "metadata": {},
     "output_type": "display_data"
    },
    {
     "name": "stderr",
     "output_type": "stream",
     "text": [
      "2022-01-12 20:12:08.320 | INFO     | __main__:<module>:8 - Category: politics | Files: 417\n"
     ]
    },
    {
     "data": {
      "application/vnd.jupyter.widget-view+json": {
       "model_id": "265beef8ef634cb7bbe74c7db1d3eb2f",
       "version_major": 2,
       "version_minor": 0
      },
      "text/plain": [
       "  0%|          | 0/417 [00:00<?, ?it/s]"
      ]
     },
     "metadata": {},
     "output_type": "display_data"
    },
    {
     "name": "stderr",
     "output_type": "stream",
     "text": [
      "2022-01-12 20:12:08.346 | INFO     | __main__:<module>:8 - Category: entertainment | Files: 386\n"
     ]
    },
    {
     "data": {
      "application/vnd.jupyter.widget-view+json": {
       "model_id": "872d896d8cd646b8a61aef38f04cc0b4",
       "version_major": 2,
       "version_minor": 0
      },
      "text/plain": [
       "  0%|          | 0/386 [00:00<?, ?it/s]"
      ]
     },
     "metadata": {},
     "output_type": "display_data"
    },
    {
     "name": "stderr",
     "output_type": "stream",
     "text": [
      "2022-01-12 20:12:08.373 | INFO     | __main__:<module>:8 - Category: business | Files: 510\n"
     ]
    },
    {
     "data": {
      "application/vnd.jupyter.widget-view+json": {
       "model_id": "eed7fb79152a4f60875dcc71fad7534f",
       "version_major": 2,
       "version_minor": 0
      },
      "text/plain": [
       "  0%|          | 0/510 [00:00<?, ?it/s]"
      ]
     },
     "metadata": {},
     "output_type": "display_data"
    }
   ],
   "source": [
    "base_folder = 'BBC News Summary/News Articles/'\n",
    "tags = [filename for filename in os.listdir(base_folder) if not filename.startswith('.')]\n",
    "\n",
    "all_data = {}\n",
    "counter = 0\n",
    "for tag in tags:\n",
    "    txt_files = [filename for filename in os.listdir(f'{base_folder}{tag}') if filename.endswith('.txt')]\n",
    "    logger.info(f'Category: {tag} | Files: {len(txt_files)}')\n",
    "    for filename in tqdm(txt_files):\n",
    "        try:\n",
    "            with open(f'{base_folder}{tag}/{filename}', 'r') as f:\n",
    "                txt = f.read()\n",
    "            all_data[counter] = {'x': txt, 'y': tag}\n",
    "            counter += 1\n",
    "        except:\n",
    "            pass"
   ]
  },
  {
   "cell_type": "markdown",
   "id": "expected-suspension",
   "metadata": {},
   "source": [
    "## First approach: classic NLP with TF-IDF model\n",
    "\n",
    "- Basic text cleaning process with `re` module\n",
    "- Text preprocessing with `spacy`, industrialized process\n",
    "\n",
    "- Gensim: extremes filtered for greater performance\n",
    "- Classifiers: Logistic Regression and Random Forest"
   ]
  },
  {
   "cell_type": "code",
   "execution_count": null,
   "id": "graphic-norway",
   "metadata": {},
   "outputs": [],
   "source": []
  },
  {
   "cell_type": "markdown",
   "id": "religious-respondent",
   "metadata": {},
   "source": [
    "## What happens if I obtain document embeddings?\n",
    "\n",
    "Spacy ships GloVe vectors for 1M words in its `lg` models. It means we can easily obtain document vectors by averaging word vectors very easily. Of course, there are contextualized document embedding models that could achieve better performance, but let's see if we can manage this dataset with available Spacy vectors."
   ]
  }
 ],
 "metadata": {
  "kernelspec": {
   "display_name": "Python 3 (ipykernel)",
   "language": "python",
   "name": "python3"
  },
  "language_info": {
   "codemirror_mode": {
    "name": "ipython",
    "version": 3
   },
   "file_extension": ".py",
   "mimetype": "text/x-python",
   "name": "python",
   "nbconvert_exporter": "python",
   "pygments_lexer": "ipython3",
   "version": "3.9.9"
  }
 },
 "nbformat": 4,
 "nbformat_minor": 5
}
